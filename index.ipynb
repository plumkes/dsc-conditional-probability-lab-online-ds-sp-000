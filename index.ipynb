{
 "cells": [
  {
   "cell_type": "markdown",
   "metadata": {},
   "source": [
    "# Conditional Probability - Lab\n",
    "\n",
    "## Introduction\n",
    "\n",
    "In order to be ready for real world applications of probability, it is important to understand what happens when probabilities are not independent. Very often, the probability of a certain event depends on other events happening! Let's see how this all works in this lab.\n",
    "\n",
    "## Objectives\n",
    "\n",
    "You will be able to:\n",
    "\n",
    "- Understand and explain the conditional probability - $P(A \\cap B) = P(A \\mid B) P(B)$\n",
    "- Use the multiplication rule to find the probability of the intersection of two events\n",
    "- Apply the techniques learned in the lesson to simple problems\n",
    "\n",
    "## Exercise 1\n",
    "A coin is tossed and a single 6-sided dice is rolled. Find the probability of landing on the head side of the coin and rolling a 3 on the dice."
   ]
  },
  {
   "cell_type": "code",
   "execution_count": 3,
   "metadata": {},
   "outputs": [
    {
     "data": {
      "text/plain": [
       "8.333333333333332"
      ]
     },
     "execution_count": 3,
     "metadata": {},
     "output_type": "execute_result"
    }
   ],
   "source": [
    "sample_space_coin = 2\n",
    "event_space_coin = 1\n",
    "prob_coin = event_space_coin / sample_space_coin\n",
    "\n",
    "sample_space_dice = 6\n",
    "event_space_dice = 1\n",
    "prob_dice = event_space_dice / sample_space_dice\n",
    "\n",
    "prob_both = prob_coin * prob_dice\n",
    "\n",
    "prob_both * 100"
   ]
  },
  {
   "cell_type": "markdown",
   "metadata": {},
   "source": [
    "## Exercise 2\n",
    "\n",
    "\n",
    "After conducting a survey, one of the outcomes was that 8 out of 10 of the surey subjects liked chocolate chip cookies. If three survey subjects are chosen at random **with replacement**, what is the probability that all three like chocolate chip cookies?"
   ]
  },
  {
   "cell_type": "code",
   "execution_count": 4,
   "metadata": {},
   "outputs": [
    {
     "data": {
      "text/plain": [
       "0.5120000000000001"
      ]
     },
     "execution_count": 4,
     "metadata": {},
     "output_type": "execute_result"
    }
   ],
   "source": [
    "trial_1 = 8/10\n",
    "trial_2 = 8/10\n",
    "trial_3 = 8/10\n",
    "\n",
    "prob_3_trials = trial_1 * trial_2 * trial_3\n",
    "prob_3_trials"
   ]
  },
  {
   "cell_type": "markdown",
   "metadata": {},
   "source": [
    "* In the context of permutations, replacement means you would take the length of your sample size to the power of how many trials there would be. <br>\n",
    "* In the context of probability, replacement just means the trials are going to be independent, which means you do them separately and then multiply them together to get the probability of all of them happening. <br>\n",
    "* In our case it makes sense because you would have a 80% chance to pull a cc cookie lover. But you're doing the trial three separate times, all the while putting back whomever you chose, regardless of their cookie preference. So each time you do that, though the probability of pulling a cc cookie lover stays the same, the probability that this keeps happening over and over goes down slightly. "
   ]
  },
  {
   "cell_type": "markdown",
   "metadata": {},
   "source": [
    "## Exercise 3\n",
    "70% of your friends like chocolate flavored ice cream , and 35% like chocolate AND like strawberry flavors.\n",
    "\n",
    "What percent of those who like chocolate also like strawberry?"
   ]
  },
  {
   "cell_type": "code",
   "execution_count": 28,
   "metadata": {},
   "outputs": [
    {
     "data": {
      "text/plain": [
       "0.5"
      ]
     },
     "execution_count": 28,
     "metadata": {},
     "output_type": "execute_result"
    }
   ],
   "source": [
    "# Your solution \n",
    "A = 0.35\n",
    "B = 0.7\n",
    "\n",
    "# P(A|B) = P(A cap B)/P(B)\n",
    "Prob_A_given_B = A / B\n",
    "\n",
    "Prob_A_given_B"
   ]
  },
  {
   "cell_type": "markdown",
   "metadata": {},
   "source": [
    "50% of your friends who like chocolate also like strawberry\n",
    "\n",
    "## Exercise 4\n",
    "What is the probability of drawing 2 consecutive aces from a deck of cards. "
   ]
  },
  {
   "cell_type": "code",
   "execution_count": 23,
   "metadata": {},
   "outputs": [
    {
     "data": {
      "text/plain": [
       "0.4524886877828055"
      ]
     },
     "execution_count": 23,
     "metadata": {},
     "output_type": "execute_result"
    }
   ],
   "source": [
    "# Your solution\n",
    "ace_1 = 4/52\n",
    "ace_2 = 3/51\n",
    "a_cap_b = ace_1 * ace_2\n",
    "\n",
    "a_cap_b * 100"
   ]
  },
  {
   "cell_type": "markdown",
   "metadata": {},
   "source": [
    "> At first I thought this was going to need a conditional probability formula to solve, but it didn't. Actually none of the problems up until this point have needed it (I think).    **-P**"
   ]
  },
  {
   "cell_type": "markdown",
   "metadata": {},
   "source": [
    "## Exercise 5\n",
    "In a manufacturing factory that produces a certain product, there are 100 units of the product, 5 of which are defective. We pick three units from the 100 units at random. \n",
    "\n",
    "What is the probability that none of them are defective?\n",
    "Hint: Use the chain rule here!"
   ]
  },
  {
   "cell_type": "code",
   "execution_count": 30,
   "metadata": {},
   "outputs": [
    {
     "data": {
      "text/plain": [
       "0.8559987631416203"
      ]
     },
     "execution_count": 30,
     "metadata": {},
     "output_type": "execute_result"
    }
   ],
   "source": [
    "# Your solution\n",
    "prob_A = 95/100\n",
    "prob_B_given_A = 94/99\n",
    "prob_C_given_AB = 93/98\n",
    "\n",
    "# three_probs = \n",
    "prob_A_B_C = prob_A * prob_B_given_A * prob_C_given_AB\n",
    "prob_A_B_C"
   ]
  },
  {
   "cell_type": "markdown",
   "metadata": {},
   "source": [
    "This was simpler than I thought because I know that you have to figure $P(A|B)$, which I thought would be unknown, so I was trying to figure out how you would get that answer first before you could move on to the next step. <br><br>\n",
    "But I think the thing to note here is the word **given**--we are assuming (or giving) that $A$ has happened, so instead of figuring out what the probability would have been _had we pulled a defect on the first draw_, we are instead assuming that there wasn't a defect on the first draw, and then moving on from there. And right away you have your $P(A|B)$ without having to do any calculations.<br><br>\n",
    "After that it is pretty similar to the above problem: you whittle down what the options would be, _again assuming that you had not pulled a defect_. <br>\n",
    "This is also why you use $95/100$ instead of $5/100$, like I was doing when I started out. I was trying to find the probability that we would pull a defect, but we were asking what the probability would be that we would not find a defect."
   ]
  },
  {
   "cell_type": "markdown",
   "metadata": {},
   "source": [
    "## Exercise 6\n",
    "\n",
    "Let's consider the example where 2 dice are thrown. Given that **at least one** of the dice has come up on a number higher than 4, what is the probability that the sum is 8?\n",
    "\n",
    "Let $i,j$ be the numbers shown on the dice. The events $A$ and $B$ are described below:\n",
    "\n",
    "* **Event $A$ is when either $i$ or $j$ is 5 or 6** (keep an eye on either - or)\n",
    "* **Event $B$ is when $i + j = 8$**\n",
    "\n",
    "\n",
    "* What is the size of sample space $\\Omega$ ?\n",
    "* What is $P(A \\cap B)$ ?\n",
    "* What is $P(A)$ ?\n",
    "* Use above to calculate $P(B \\mid A)$"
   ]
  },
  {
   "cell_type": "code",
   "execution_count": 31,
   "metadata": {},
   "outputs": [
    {
     "data": {
      "text/plain": [
       "0.5454545454545455"
      ]
     },
     "execution_count": 31,
     "metadata": {},
     "output_type": "execute_result"
    }
   ],
   "source": [
    "# Your solution\n",
    "omega = 36\n",
    "\n",
    "A = 2/36\n",
    "\n",
    "B = 2/36\n",
    "\n",
    "A_cap_B = \n",
    "\n",
    "\n",
    "B_given_A = A_cap_B / A\n",
    "B_given_A"
   ]
  },
  {
   "cell_type": "markdown",
   "metadata": {},
   "source": [
    "Here's FI's solution that I wasn't even close to:"
   ]
  },
  {
   "cell_type": "markdown",
   "metadata": {},
   "source": [
    "$A:= {(i,j) \\in \\Omega \\mid \\text{either $i$ or $j$ is 5 or 6}}$ \n",
    "\n",
    "$B:= {(i,j)\\in \\Omega \\mid i+j = 8}$\n",
    "\n",
    "In total, there are 36 possible outcomes, so $\\Omega = 36$.\n",
    "\n",
    "$P(A) = 20/36$ - Event $A$ has 20 possible outcomes out of 36\n",
    "<br>--this is because if you are looking at all the possible sets ([1,1], [4,2], [5,4]) etc., all of the sets where one of the dice is 5 ([5,1], [5,2], [5,3]) etc., equals 6 possibilities, which is the same for all the dice where 6 is one of the dice, so this equals 12. Then, you still have set numbers 1-4, each of which contain two of the possibilities we are looking for, either a 5 or a 6, which will be the last two possibilities for each of the sets. #'s 1-4 * 2ea. = 8; 8 + 12 = 20.\n",
    "\n",
    "$P(A \\cap B) = 4/36$ - Event $B$ has 4 possible outcomes out of 36 - (2 and 6, 3 and 5, 6 and 2, 5 and 3)\n",
    "\n",
    "We want to know what the probability of $B$ is given $A$, so $P(B \\mid A)= \\dfrac{P(B\\cap A)}{P(A)}$. This leads to:"
   ]
  },
  {
   "cell_type": "code",
   "execution_count": 39,
   "metadata": {},
   "outputs": [
    {
     "name": "stdout",
     "output_type": "stream",
     "text": [
      "P(A)= 0.5555555555555556\n",
      "P(B cup A)= 0.1111111111111111\n",
      "P(B|A)= 0.19999999999999998\n",
      "The probability that B happens, given A, is 8% more likely than the probability that B and A happen,since they are     dependent\n"
     ]
    }
   ],
   "source": [
    "p_B_given_A = (4/36)/(20/36) \n",
    "print(\"P(A)=\", 20/36)\n",
    "print(\"P(B cup A)=\", 4/36)\n",
    "print(\"P(B|A)=\", p_B_given_A) \n",
    "print(\"The probability that B happens, given A, is 8% more likely than the probability that B and A happen,\"\n",
    "     \"since they are     dependent\")"
   ]
  },
  {
   "cell_type": "markdown",
   "metadata": {},
   "source": [
    "## Exercise 7\n",
    "\n",
    "Let's consider a credit card example. At a supermarket, customers are selected randomly, the store owner recorded whether costumers owned a Visa card (event A) or an Amex credit card (event B). Some customers own both cards.\n",
    "You can assume that:\n",
    "\n",
    "- $P(A)$ = 0.5\n",
    "- $P(B)$ = 0.4\n",
    "- both $A$ and $B$ $(A \\cap B)$= 0.25.\n",
    "\n",
    "\n",
    "With the knowledge we have about conditional probabilities, compute and interpret the following probabilities:\n",
    "\n",
    "- $P(B \\mid A)$\n",
    "- $P(B' \\mid A)$\n",
    "- $P(A \\mid B)$\n",
    "- $P(A' \\mid B)$\n"
   ]
  },
  {
   "cell_type": "code",
   "execution_count": 45,
   "metadata": {},
   "outputs": [],
   "source": [
    "# Your solution\n",
    "a = .5\n",
    "b = .4\n",
    "a_and_b = .25\n",
    "\n",
    "\n",
    "b_given_a = a_and_b / a\n",
    "\n",
    "b_cmplmnt_given_a = 1 - b_given_a\n",
    "\n",
    "a_given_b = a_and_b / b\n",
    "\n",
    "a_cmplmnt_given_b = 1 - a_given_b"
   ]
  },
  {
   "cell_type": "code",
   "execution_count": 46,
   "metadata": {},
   "outputs": [
    {
     "name": "stdout",
     "output_type": "stream",
     "text": [
      "0.5\n",
      "0.5\n",
      "0.625\n",
      "0.375\n"
     ]
    }
   ],
   "source": [
    "print(b_given_a)\n",
    "print(b_cmplmnt_given_a)\n",
    "print(a_given_b)\n",
    "print(a_cmplmnt_given_b)"
   ]
  },
  {
   "cell_type": "markdown",
   "metadata": {},
   "source": [
    "The reason why, in the compliment problems, that it is simply one minus the previous problem is because, if we remember the lesson on sets, the universal compliment to an event is everything that is not in it. When we are combininig this with **_given_** clauses, we find that: \n",
    "* if we found the probability of _A, given B_, then we see that the universal compliment of _A given B_ will be everything that wasn't in _A given B_.\n",
    "* $P(A'|B) = 1 - P(A|B)$"
   ]
  },
  {
   "cell_type": "markdown",
   "metadata": {},
   "source": [
    "## Summary \n",
    "\n",
    "In this lab you practiced conditional probability and its theorem with some simple problems. The key takeaway from this lab is to be able to identify random events as dependent or independent and calculating the probability of their occurrence using appropriate methods. Next you'll learn about some more conditional probability axioms, building on the knowledge we have so far. "
   ]
  },
  {
   "cell_type": "markdown",
   "metadata": {},
   "source": [
    "## Worked problem from Khan Academy"
   ]
  },
  {
   "cell_type": "markdown",
   "metadata": {},
   "source": [
    "A hospital is testing patients for a certain disease. If a patient has the disease, the test is designed to return a \"positive\" result. If a patient does not have the disease, the test should return a \"negative\" result. No test is perfect though.\n",
    "* 99%, percent of patients who have the disease will test positive.\n",
    "* 5%, percent of patients who don't have the disease will also test positive.\n",
    "* 10%, percent of the population in question has the disease.<br>\n",
    "**If a random patient tests positive, what is the probability that they have the disease?**"
   ]
  },
  {
   "cell_type": "code",
   "execution_count": 55,
   "metadata": {},
   "outputs": [],
   "source": [
    "have_disease = .10\n",
    "dont_have_disease = .90\n",
    "false_positive = .05\n",
    "test_accuracy = .99"
   ]
  },
  {
   "cell_type": "code",
   "execution_count": 66,
   "metadata": {},
   "outputs": [],
   "source": [
    "cracks = have_disease * (1-test_accuracy)\n",
    "no_tru_pos = test_accuracy * (have_diesase - cracks)\n",
    "no_false_pos = dont_have_disease * false_positive\n",
    "total_pos = no_false_pos+no_tru_pos"
   ]
  },
  {
   "cell_type": "code",
   "execution_count": 67,
   "metadata": {},
   "outputs": [
    {
     "name": "stdout",
     "output_type": "stream",
     "text": [
      "0.0010000000000000009\n",
      "0.09801\n",
      "0.045000000000000005\n",
      "0.14301\n"
     ]
    }
   ],
   "source": [
    "print(cracks)\n",
    "print(no_tru_pos)\n",
    "print(no_false_pos)\n",
    "print(total_pos)"
   ]
  },
  {
   "cell_type": "raw",
   "metadata": {},
   "source": []
  },
  {
   "cell_type": "code",
   "execution_count": 60,
   "metadata": {},
   "outputs": [
    {
     "data": {
      "text/plain": [
       "0.099"
      ]
     },
     "execution_count": 60,
     "metadata": {},
     "output_type": "execute_result"
    }
   ],
   "source": [
    "have_disease * test_accuracy"
   ]
  },
  {
   "cell_type": "code",
   "execution_count": 61,
   "metadata": {},
   "outputs": [
    {
     "data": {
      "text/plain": [
       "0.14301"
      ]
     },
     "execution_count": 61,
     "metadata": {},
     "output_type": "execute_result"
    }
   ],
   "source": [
    "total_pos"
   ]
  },
  {
   "cell_type": "code",
   "execution_count": 59,
   "metadata": {},
   "outputs": [
    {
     "data": {
      "text/plain": [
       "0.6992518005733865"
      ]
     },
     "execution_count": 59,
     "metadata": {},
     "output_type": "execute_result"
    }
   ],
   "source": [
    "random_has_disease = have_disease / total_pos\n",
    "random_has_disease"
   ]
  },
  {
   "cell_type": "code",
   "execution_count": null,
   "metadata": {},
   "outputs": [],
   "source": []
  }
 ],
 "metadata": {
  "kernelspec": {
   "display_name": "Python 3",
   "language": "python",
   "name": "python3"
  },
  "language_info": {
   "codemirror_mode": {
    "name": "ipython",
    "version": 3
   },
   "file_extension": ".py",
   "mimetype": "text/x-python",
   "name": "python",
   "nbconvert_exporter": "python",
   "pygments_lexer": "ipython3",
   "version": "3.7.1"
  }
 },
 "nbformat": 4,
 "nbformat_minor": 2
}
